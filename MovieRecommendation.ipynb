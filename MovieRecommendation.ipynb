{
 "cells": [
  {
   "cell_type": "code",
   "execution_count": 1,
   "id": "72f76e46-7a4e-4273-9cf9-073823c7d0b2",
   "metadata": {},
   "outputs": [],
   "source": [
    "import pandas as pd\n",
    "import numpy as np\n",
    "from sklearn.feature_extraction.text import CountVectorizer\n",
    "from sklearn.metrics.pairwise import cosine_similarity\n"
   ]
  },
  {
   "cell_type": "code",
   "execution_count": 3,
   "id": "fc0fa023-5425-4d55-8324-79329f537bad",
   "metadata": {},
   "outputs": [],
   "source": [
    "movies = pd.read_csv('C:\\Acmegrade\\movies.csv')\n",
    "credits = pd.read_csv('C:\\Acmegrade\\credits.csv')\n",
    "movies = movies.merge(credits, on='title')\n"
   ]
  },
  {
   "cell_type": "code",
   "execution_count": 4,
   "id": "a85892f6-4a0f-4d5f-af6a-c62551685e33",
   "metadata": {},
   "outputs": [],
   "source": [
    "movies = movies[['movie_id', 'title', 'overview', 'genres', 'keywords', 'cast', 'crew']]\n",
    "movies.dropna(inplace=True)\n"
   ]
  },
  {
   "cell_type": "code",
   "execution_count": 5,
   "id": "37c5412e-8bd8-48ac-b477-ccb423d2ee23",
   "metadata": {},
   "outputs": [],
   "source": [
    "def clean_data(x):\n",
    "    if isinstance(x, list):\n",
    "        return [str.lower(i.replace(\" \", \"\")) for i in x]\n",
    "    else:\n",
    "        return str.lower(x.replace(\" \", \"\"))\n",
    "features = ['genres', 'keywords', 'cast', 'crew', 'overview']\n",
    "for feature in features:\n",
    "    movies[feature] = movies[feature].apply(clean_data)\n",
    "movies['combined_features'] = movies.apply(lambda x: ' '.join(x[feature] for feature in features), axis=1)\n"
   ]
  },
  {
   "cell_type": "code",
   "execution_count": 6,
   "id": "db4942be-d628-4379-a8c4-264efc5f5c57",
   "metadata": {},
   "outputs": [],
   "source": [
    "\n",
    "cv = CountVectorizer(max_features=5000, stop_words='english')\n",
    "count_matrix = cv.fit_transform(movies['combined_features'])\n",
    "cosine_sim = cosine_similarity(count_matrix)\n"
   ]
  },
  {
   "cell_type": "code",
   "execution_count": 14,
   "id": "830731da-8a64-41b8-95b1-864f5a583984",
   "metadata": {},
   "outputs": [
    {
     "name": "stdout",
     "output_type": "stream",
     "text": [
      "4271                                    Batman\n",
      "3738                               Night Watch\n",
      "1752    Star Trek VI: The Undiscovered Country\n",
      "2144                                     Risen\n",
      "2925                              Major League\n",
      "859                               Thunderbirds\n",
      "627                            The Last Legion\n",
      "1551                         The Addams Family\n",
      "1361                                    Batman\n",
      "2048                                 RoboCop 3\n",
      "Name: title, dtype: object\n"
     ]
    }
   ],
   "source": [
    "\n",
    "def get_recommendations(title, cosine_sim=cosine_sim):\n",
    "    \n",
    "    title = title.lower()\n",
    "    if title in movies['title'].str.lower().values:\n",
    "        idx = movies[movies['title'].str.lower() == title].index[0]\n",
    "        sim_scores = list(enumerate(cosine_sim[idx]))\n",
    "        sim_scores = sorted(sim_scores, key=lambda x: x[1], reverse=True)\n",
    "        sim_scores = sim_scores[1:11]\n",
    "        movie_indices = [i[0] for i in sim_scores]\n",
    "        return movies['title'].iloc[movie_indices]\n",
    "    else:\n",
    "        return \"Movie not found in the dataset.\"\n",
    "print(get_recommendations('Batman'))\n"
   ]
  },
  {
   "cell_type": "code",
   "execution_count": null,
   "id": "0d47c758-82e5-4bab-9c5b-3f592b37ae06",
   "metadata": {},
   "outputs": [],
   "source": []
  }
 ],
 "metadata": {
  "kernelspec": {
   "display_name": "Python 3 (ipykernel)",
   "language": "python",
   "name": "python3"
  },
  "language_info": {
   "codemirror_mode": {
    "name": "ipython",
    "version": 3
   },
   "file_extension": ".py",
   "mimetype": "text/x-python",
   "name": "python",
   "nbconvert_exporter": "python",
   "pygments_lexer": "ipython3",
   "version": "3.11.5"
  }
 },
 "nbformat": 4,
 "nbformat_minor": 5
}
